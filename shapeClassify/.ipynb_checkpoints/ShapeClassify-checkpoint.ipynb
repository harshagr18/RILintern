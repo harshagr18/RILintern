{
 "cells": [
  {
   "cell_type": "code",
   "execution_count": 56,
   "metadata": {},
   "outputs": [],
   "source": [
    "import cv2 as oc\n",
    "import numpy as np\n",
    "from keras.models import Sequential\n",
    "from keras.layers import Conv2D\n",
    "from keras.layers import MaxPooling2D\n",
    "from keras.layers.core import Flatten\n",
    "from keras.layers.core import Dense\n",
    "from keras.layers.core import Dropout\n",
    "from keras.preprocessing.image import ImageDataGenerator\n",
    "from keras.preprocessing import image"
   ]
  },
  {
   "cell_type": "code",
   "execution_count": 57,
   "metadata": {},
   "outputs": [],
   "source": [
    "classifier = Sequential()\n",
    "classifier.add(Conv2D(32, (3,3) , input_shape = (64,64,3), activation = \"relu\"))\n",
    "classifier.add(MaxPooling2D(pool_size = (2,2)))\n",
    "classifier.add(Conv2D(32, (3,3) ,activation = \"relu\"))\n",
    "classifier.add(MaxPooling2D(pool_size = (2,2)))\n",
    "classifier.add(Flatten())\n",
    "classifier.add(Dense(units = 64, activation = \"relu\"))\n",
    "classifier.add(Dense(units = 4, activation = \"softmax\"))\n",
    "classifier.compile(optimizer = \"adam\" , loss = \"categorical_crossentropy\", metrics = [\"accuracy\"])"
   ]
  },
  {
   "cell_type": "code",
   "execution_count": 58,
   "metadata": {},
   "outputs": [],
   "source": [
    "images = ImageDataGenerator(\n",
    "\n",
    "rescale  = 1./255,\n",
    "shear_range = 0.2,\n",
    "zoom_range = 0.3,\n",
    "horizontal_flip = True\n",
    "\n",
    ")"
   ]
  },
  {
   "cell_type": "code",
   "execution_count": 59,
   "metadata": {},
   "outputs": [
    {
     "name": "stdout",
     "output_type": "stream",
     "text": [
      "Found 13376 images belonging to 4 classes.\n",
      "Found 1594 images belonging to 4 classes.\n"
     ]
    }
   ],
   "source": [
    "train_data = images.flow_from_directory(\n",
    "    \n",
    "    \"train\",\n",
    "    target_size = (64,64),\n",
    "    batch_size = 32,\n",
    "    class_mode = \"categorical\"\n",
    "    \n",
    ")\n",
    "\n",
    "test_data = images.flow_from_directory(\n",
    "    \n",
    "    \"test\",\n",
    "    target_size = (64,64),\n",
    "    batch_size = 32,\n",
    "    class_mode = \"categorical\"\n",
    "    \n",
    ")"
   ]
  },
  {
   "cell_type": "code",
   "execution_count": 60,
   "metadata": {
    "scrolled": false
   },
   "outputs": [
    {
     "name": "stdout",
     "output_type": "stream",
     "text": [
      "Epoch 1/20\n",
      "100/100 [==============================] - 7s 72ms/step - loss: 0.3844 - acc: 0.8569 - val_loss: 0.0537 - val_acc: 0.9891\n",
      "Epoch 2/20\n",
      "100/100 [==============================] - 6s 64ms/step - loss: 0.0401 - acc: 0.9897 - val_loss: 0.0096 - val_acc: 1.0000\n",
      "Epoch 3/20\n",
      "100/100 [==============================] - 6s 63ms/step - loss: 0.0160 - acc: 0.9959 - val_loss: 0.0076 - val_acc: 1.0000\n",
      "Epoch 4/20\n",
      "100/100 [==============================] - 6s 63ms/step - loss: 0.0033 - acc: 0.9997 - val_loss: 0.0031 - val_acc: 0.9984\n",
      "Epoch 5/20\n",
      "100/100 [==============================] - 6s 64ms/step - loss: 0.0047 - acc: 0.9988 - val_loss: 0.0014 - val_acc: 1.0000\n",
      "Epoch 6/20\n",
      "100/100 [==============================] - 6s 65ms/step - loss: 0.0081 - acc: 0.9978 - val_loss: 0.0071 - val_acc: 0.9984\n",
      "Epoch 7/20\n",
      "100/100 [==============================] - 6s 65ms/step - loss: 0.0047 - acc: 0.9984 - val_loss: 8.4236e-04 - val_acc: 1.0000\n",
      "Epoch 8/20\n",
      "100/100 [==============================] - 6s 64ms/step - loss: 5.0016e-04 - acc: 1.0000 - val_loss: 4.2318e-04 - val_acc: 1.0000\n",
      "Epoch 9/20\n",
      "100/100 [==============================] - 6s 65ms/step - loss: 0.0048 - acc: 0.9975 - val_loss: 6.9676e-04 - val_acc: 1.0000\n",
      "Epoch 10/20\n",
      "100/100 [==============================] - 6s 65ms/step - loss: 0.0033 - acc: 0.9988 - val_loss: 7.8387e-04 - val_acc: 1.0000\n",
      "Epoch 11/20\n",
      "100/100 [==============================] - 6s 64ms/step - loss: 0.0039 - acc: 0.9978 - val_loss: 0.0183 - val_acc: 0.9938\n",
      "Epoch 12/20\n",
      "100/100 [==============================] - 6s 65ms/step - loss: 0.0098 - acc: 0.9966 - val_loss: 3.1464e-04 - val_acc: 1.0000\n",
      "Epoch 13/20\n",
      "100/100 [==============================] - 6s 64ms/step - loss: 3.1536e-04 - acc: 1.0000 - val_loss: 2.0350e-04 - val_acc: 1.0000\n",
      "Epoch 14/20\n",
      "100/100 [==============================] - 7s 65ms/step - loss: 8.3308e-04 - acc: 0.9997 - val_loss: 1.1707e-04 - val_acc: 1.0000\n",
      "Epoch 15/20\n",
      "100/100 [==============================] - 6s 64ms/step - loss: 0.0014 - acc: 0.9997 - val_loss: 2.8555e-04 - val_acc: 1.0000\n",
      "Epoch 16/20\n",
      "100/100 [==============================] - 7s 65ms/step - loss: 0.0021 - acc: 0.9991 - val_loss: 1.1798e-04 - val_acc: 1.0000\n",
      "Epoch 17/20\n",
      "100/100 [==============================] - 6s 64ms/step - loss: 9.2659e-05 - acc: 1.0000 - val_loss: 7.5114e-05 - val_acc: 1.0000\n",
      "Epoch 18/20\n",
      "100/100 [==============================] - 6s 64ms/step - loss: 4.3576e-04 - acc: 1.0000 - val_loss: 2.6755e-04 - val_acc: 1.0000\n",
      "Epoch 19/20\n",
      "100/100 [==============================] - 6s 65ms/step - loss: 0.0019 - acc: 0.9997 - val_loss: 1.2080e-04 - val_acc: 1.0000\n",
      "Epoch 20/20\n",
      "100/100 [==============================] - 6s 63ms/step - loss: 3.9516e-04 - acc: 0.9997 - val_loss: 4.6844e-05 - val_acc: 1.0000\n"
     ]
    },
    {
     "data": {
      "text/plain": [
       "<keras.callbacks.History at 0x7fad9deb9a50>"
      ]
     },
     "execution_count": 60,
     "metadata": {},
     "output_type": "execute_result"
    }
   ],
   "source": [
    "classifier.fit_generator(\n",
    "\n",
    "train_data,\n",
    "epochs = 20,\n",
    "steps_per_epoch = 100,\n",
    "validation_data = test_data,\n",
    "validation_steps = 20\n",
    "\n",
    ")"
   ]
  },
  {
   "cell_type": "markdown",
   "metadata": {},
   "source": [
    "## myimg = image.load_img(\"test/circleTest/3477.png\",target_size=(64,64))\n",
    "myimg = image.img_to_array(myimg)\n",
    "myimg = np.expand_dims(myimg, axis = 0)\n",
    "\n",
    "result = classifier.predict(myimg)\n",
    "print(train_data.class_indices)\n",
    "print(result)"
   ]
  }
 ],
 "metadata": {
  "kernelspec": {
   "display_name": "Python 3",
   "language": "python",
   "name": "python3"
  },
  "language_info": {
   "codemirror_mode": {
    "name": "ipython",
    "version": 3
   },
   "file_extension": ".py",
   "mimetype": "text/x-python",
   "name": "python",
   "nbconvert_exporter": "python",
   "pygments_lexer": "ipython3",
   "version": "3.7.5"
  }
 },
 "nbformat": 4,
 "nbformat_minor": 2
}
