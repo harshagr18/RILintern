{
 "cells": [
  {
   "cell_type": "code",
   "execution_count": 1,
   "metadata": {},
   "outputs": [
    {
     "name": "stderr",
     "output_type": "stream",
     "text": [
      "Using TensorFlow backend.\n"
     ]
    }
   ],
   "source": [
    "import cv2 as oc\n",
    "import numpy as np\n",
    "from keras.models import Sequential\n",
    "from keras.layers import Conv2D\n",
    "from keras.layers import MaxPooling2D\n",
    "from keras.layers.core import Flatten\n",
    "from keras.layers.core import Dense\n",
    "from keras.layers.core import Dropout\n",
    "from keras.preprocessing.image import ImageDataGenerator\n",
    "from keras.preprocessing import image"
   ]
  },
  {
   "cell_type": "code",
   "execution_count": 2,
   "metadata": {},
   "outputs": [
    {
     "name": "stdout",
     "output_type": "stream",
     "text": [
      "WARNING:tensorflow:From /home/harsh/anaconda3/envs/RILintern/lib/python3.7/site-packages/keras/backend/tensorflow_backend.py:74: The name tf.get_default_graph is deprecated. Please use tf.compat.v1.get_default_graph instead.\n",
      "\n",
      "WARNING:tensorflow:From /home/harsh/anaconda3/envs/RILintern/lib/python3.7/site-packages/keras/backend/tensorflow_backend.py:517: The name tf.placeholder is deprecated. Please use tf.compat.v1.placeholder instead.\n",
      "\n",
      "WARNING:tensorflow:From /home/harsh/anaconda3/envs/RILintern/lib/python3.7/site-packages/keras/backend/tensorflow_backend.py:4138: The name tf.random_uniform is deprecated. Please use tf.random.uniform instead.\n",
      "\n",
      "WARNING:tensorflow:From /home/harsh/anaconda3/envs/RILintern/lib/python3.7/site-packages/keras/backend/tensorflow_backend.py:3976: The name tf.nn.max_pool is deprecated. Please use tf.nn.max_pool2d instead.\n",
      "\n",
      "WARNING:tensorflow:From /home/harsh/anaconda3/envs/RILintern/lib/python3.7/site-packages/keras/optimizers.py:790: The name tf.train.Optimizer is deprecated. Please use tf.compat.v1.train.Optimizer instead.\n",
      "\n",
      "WARNING:tensorflow:From /home/harsh/anaconda3/envs/RILintern/lib/python3.7/site-packages/keras/backend/tensorflow_backend.py:3295: The name tf.log is deprecated. Please use tf.math.log instead.\n",
      "\n"
     ]
    }
   ],
   "source": [
    "classifier = Sequential()\n",
    "classifier.add(Conv2D(32, (3,3) , input_shape = (64,64,3), activation = \"relu\"))\n",
    "classifier.add(MaxPooling2D(pool_size = (2,2)))\n",
    "classifier.add(Conv2D(32, (3,3) ,activation = \"relu\"))\n",
    "classifier.add(MaxPooling2D(pool_size = (2,2)))\n",
    "classifier.add(Flatten())\n",
    "classifier.add(Dense(units = 64, activation = \"relu\"))\n",
    "classifier.add(Dense(units = 4, activation = \"softmax\"))\n",
    "classifier.compile(optimizer = \"adam\" , loss = \"categorical_crossentropy\", metrics = [\"accuracy\"])"
   ]
  },
  {
   "cell_type": "code",
   "execution_count": 3,
   "metadata": {},
   "outputs": [],
   "source": [
    "images = ImageDataGenerator(\n",
    "\n",
    "rescale  = 1./255,\n",
    "shear_range = 0.2,\n",
    "zoom_range = 0.3,\n",
    "horizontal_flip = True\n",
    "\n",
    ")"
   ]
  },
  {
   "cell_type": "code",
   "execution_count": 4,
   "metadata": {},
   "outputs": [
    {
     "name": "stdout",
     "output_type": "stream",
     "text": [
      "Found 13376 images belonging to 4 classes.\n",
      "Found 1594 images belonging to 4 classes.\n"
     ]
    }
   ],
   "source": [
    "train_data = images.flow_from_directory(\n",
    "    \n",
    "    \"train\",\n",
    "    target_size = (64,64),\n",
    "    batch_size = 32,\n",
    "    class_mode = \"categorical\"\n",
    "    \n",
    ")\n",
    "\n",
    "test_data = images.flow_from_directory(\n",
    "    \n",
    "    \"test\",\n",
    "    target_size = (64,64),\n",
    "    batch_size = 32,\n",
    "    class_mode = \"categorical\"\n",
    "    \n",
    ")"
   ]
  },
  {
   "cell_type": "code",
   "execution_count": 5,
   "metadata": {
    "scrolled": false
   },
   "outputs": [
    {
     "name": "stdout",
     "output_type": "stream",
     "text": [
      "WARNING:tensorflow:From /home/harsh/anaconda3/envs/RILintern/lib/python3.7/site-packages/tensorflow_core/python/ops/math_grad.py:1424: where (from tensorflow.python.ops.array_ops) is deprecated and will be removed in a future version.\n",
      "Instructions for updating:\n",
      "Use tf.where in 2.0, which has the same broadcast rule as np.where\n",
      "WARNING:tensorflow:From /home/harsh/anaconda3/envs/RILintern/lib/python3.7/site-packages/keras/backend/tensorflow_backend.py:986: The name tf.assign_add is deprecated. Please use tf.compat.v1.assign_add instead.\n",
      "\n",
      "WARNING:tensorflow:From /home/harsh/anaconda3/envs/RILintern/lib/python3.7/site-packages/keras/backend/tensorflow_backend.py:973: The name tf.assign is deprecated. Please use tf.compat.v1.assign instead.\n",
      "\n",
      "WARNING:tensorflow:From /home/harsh/anaconda3/envs/RILintern/lib/python3.7/site-packages/keras/backend/tensorflow_backend.py:2741: The name tf.Session is deprecated. Please use tf.compat.v1.Session instead.\n",
      "\n",
      "Epoch 1/10\n",
      "WARNING:tensorflow:From /home/harsh/anaconda3/envs/RILintern/lib/python3.7/site-packages/keras/backend/tensorflow_backend.py:174: The name tf.get_default_session is deprecated. Please use tf.compat.v1.get_default_session instead.\n",
      "\n",
      "WARNING:tensorflow:From /home/harsh/anaconda3/envs/RILintern/lib/python3.7/site-packages/keras/backend/tensorflow_backend.py:181: The name tf.ConfigProto is deprecated. Please use tf.compat.v1.ConfigProto instead.\n",
      "\n",
      "WARNING:tensorflow:From /home/harsh/anaconda3/envs/RILintern/lib/python3.7/site-packages/keras/backend/tensorflow_backend.py:190: The name tf.global_variables is deprecated. Please use tf.compat.v1.global_variables instead.\n",
      "\n",
      "WARNING:tensorflow:From /home/harsh/anaconda3/envs/RILintern/lib/python3.7/site-packages/keras/backend/tensorflow_backend.py:199: The name tf.is_variable_initialized is deprecated. Please use tf.compat.v1.is_variable_initialized instead.\n",
      "\n",
      "WARNING:tensorflow:From /home/harsh/anaconda3/envs/RILintern/lib/python3.7/site-packages/keras/backend/tensorflow_backend.py:206: The name tf.variables_initializer is deprecated. Please use tf.compat.v1.variables_initializer instead.\n",
      "\n",
      "100/100 [==============================] - 7s 70ms/step - loss: 0.4195 - acc: 0.8403 - val_loss: 0.0895 - val_acc: 0.9781\n",
      "Epoch 2/10\n",
      "100/100 [==============================] - 6s 60ms/step - loss: 0.0519 - acc: 0.9856 - val_loss: 0.0218 - val_acc: 0.9938\n",
      "Epoch 3/10\n",
      "100/100 [==============================] - 6s 61ms/step - loss: 0.0117 - acc: 0.9984 - val_loss: 0.0159 - val_acc: 0.9937\n",
      "Epoch 4/10\n",
      "100/100 [==============================] - 6s 61ms/step - loss: 0.0124 - acc: 0.9975 - val_loss: 0.0030 - val_acc: 0.9984\n",
      "Epoch 5/10\n",
      "100/100 [==============================] - 6s 61ms/step - loss: 0.0063 - acc: 0.9991 - val_loss: 0.0048 - val_acc: 1.0000\n",
      "Epoch 6/10\n",
      "100/100 [==============================] - 6s 60ms/step - loss: 0.0035 - acc: 0.9997 - val_loss: 9.3126e-04 - val_acc: 1.0000\n",
      "Epoch 7/10\n",
      "100/100 [==============================] - 6s 60ms/step - loss: 0.0013 - acc: 1.0000 - val_loss: 7.0702e-04 - val_acc: 1.0000\n",
      "Epoch 8/10\n",
      "100/100 [==============================] - 6s 61ms/step - loss: 0.0050 - acc: 0.9988 - val_loss: 0.0024 - val_acc: 1.0000\n",
      "Epoch 9/10\n",
      "100/100 [==============================] - 6s 61ms/step - loss: 0.0185 - acc: 0.9950 - val_loss: 0.0013 - val_acc: 1.0000\n",
      "Epoch 10/10\n",
      "100/100 [==============================] - 6s 61ms/step - loss: 0.0060 - acc: 0.9988 - val_loss: 0.0079 - val_acc: 0.9968\n"
     ]
    },
    {
     "data": {
      "text/plain": [
       "<keras.callbacks.History at 0x7f34a9b068d0>"
      ]
     },
     "execution_count": 5,
     "metadata": {},
     "output_type": "execute_result"
    }
   ],
   "source": [
    "classifier.fit_generator(\n",
    "\n",
    "train_data,\n",
    "epochs = 10,\n",
    "steps_per_epoch = 100,\n",
    "validation_data = test_data,\n",
    "validation_steps = 20\n",
    "\n",
    ")"
   ]
  },
  {
   "cell_type": "code",
   "execution_count": 6,
   "metadata": {},
   "outputs": [
    {
     "name": "stdout",
     "output_type": "stream",
     "text": [
      "{'circle': 0, 'square': 1, 'star': 2, 'triangle': 3}\n",
      "[[1. 0. 0. 0.]]\n"
     ]
    }
   ],
   "source": [
    "myimg = image.load_img(\"test/circleTest/3477.png\",target_size=(64,64))\n",
    "myimg = image.img_to_array(myimg)\n",
    "myimg = np.expand_dims(myimg, axis = 0)\n",
    "\n",
    "result = classifier.predict(myimg)\n",
    "print(train_data.class_indices)\n",
    "print(result)"
   ]
  }
 ],
 "metadata": {
  "kernelspec": {
   "display_name": "Python 3",
   "language": "python",
   "name": "python3"
  },
  "language_info": {
   "codemirror_mode": {
    "name": "ipython",
    "version": 3
   },
   "file_extension": ".py",
   "mimetype": "text/x-python",
   "name": "python",
   "nbconvert_exporter": "python",
   "pygments_lexer": "ipython3",
   "version": "3.7.5"
  }
 },
 "nbformat": 4,
 "nbformat_minor": 2
}
