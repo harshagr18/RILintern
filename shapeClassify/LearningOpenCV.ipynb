{
 "cells": [
  {
   "cell_type": "code",
   "execution_count": 1,
   "metadata": {},
   "outputs": [],
   "source": [
    "import numpy as np\n",
    "import cv2\n",
    "from random import randint"
   ]
  },
  {
   "cell_type": "code",
   "execution_count": 2,
   "metadata": {},
   "outputs": [
    {
     "name": "stdout",
     "output_type": "stream",
     "text": [
      "23\n"
     ]
    },
    {
     "data": {
      "text/plain": [
       "True"
      ]
     },
     "execution_count": 2,
     "metadata": {},
     "output_type": "execute_result"
    }
   ],
   "source": [
    "img = cv2.imread(\"traas.png\")\n",
    "b,g,r = cv2.split(img)\n",
    "\n",
    "x = b + r\n",
    "\n",
    "blur = cv2.GaussianBlur(r , (5,5), 0)\n",
    "\n",
    "thresh = cv2.adaptiveThreshold(blur, 255, cv2.ADAPTIVE_THRESH_GAUSSIAN_C, cv2.THRESH_BINARY_INV,205,1)\n",
    "\n",
    "#Contouring\n",
    "\n",
    "_, contours ,_ = cv2.findContours(thresh, cv2.RETR_TREE, cv2.CHAIN_APPROX_SIMPLE)\n",
    "print(len(contours))\n",
    " \n",
    "\n",
    "filtered = []\n",
    "for c in contours:\n",
    "    if cv2.contourArea(c) > 400:\n",
    "        filtered.append(c)\n",
    "\n",
    "objects = np.zeros([img.shape[0],img.shape[1],3], \"uint8\")\n",
    "\n",
    "\n",
    "for c in filtered:\n",
    "    col = (randint(0,255),randint(0,255),randint(0,255))\n",
    "    cv2.drawContours(objects,[c],-1, col, -1)\n",
    "    \n",
    "    \n",
    "op = objects\n",
    "cv2.imwrite(\"output.jpg\",op)\n"
   ]
  },
  {
   "cell_type": "code",
   "execution_count": 3,
   "metadata": {},
   "outputs": [
    {
     "name": "stdout",
     "output_type": "stream",
     "text": [
      "24\n",
      "9\n"
     ]
    },
    {
     "data": {
      "text/plain": [
       "True"
      ]
     },
     "execution_count": 3,
     "metadata": {},
     "output_type": "execute_result"
    }
   ],
   "source": [
    "b,g,r = cv2.split(img)\n",
    "blur = cv2.GaussianBlur(r, (3,3),0)\n",
    "\n",
    "thresh = cv2.adaptiveThreshold(blur, 255, cv2.ADAPTIVE_THRESH_GAUSSIAN_C, cv2.THRESH_BINARY_INV, 205, 1)\n",
    "\n",
    "_, contours ,_ = cv2.findContours(thresh, cv2.RETR_TREE, cv2.CHAIN_APPROX_SIMPLE)\n",
    "print(len(contours))\n",
    "\n",
    "filtered = []\n",
    "for c in contours:\n",
    "\tapprox = cv2.approxPolyDP(c,0.01*cv2.arcLength(c,True),True)\n",
    "\tarea = cv2.contourArea(c)\n",
    "\tif ((len(approx) > 10) & (area > 400) & (area < 900 )):\n",
    "\t\tfiltered.append(c)\n",
    "\n",
    "\n",
    "print(len(filtered))\n",
    "\n",
    "objects1 = np.zeros([img.shape[0],img.shape[1],3], 'uint8')\n",
    "for c in filtered:\n",
    "\tcol = (randint(0,255), randint(0,255), randint(0,255))\n",
    "\tcv2.drawContours(objects,[c], -1, col, -1)\n",
    "\tarea = cv2.contourArea(c)\n",
    "\tp = cv2.arcLength(c,True)\n",
    "    \n",
    "cv2.imwrite(\"output1.jpg\",objects)\n"
   ]
  },
  {
   "cell_type": "code",
   "execution_count": 4,
   "metadata": {},
   "outputs": [
    {
     "name": "stdout",
     "output_type": "stream",
     "text": [
      "1667\n",
      "16\n"
     ]
    },
    {
     "data": {
      "text/plain": [
       "True"
      ]
     },
     "execution_count": 4,
     "metadata": {},
     "output_type": "execute_result"
    }
   ],
   "source": [
    "b,g,r = cv2.split(img)\n",
    "blur = cv2.GaussianBlur(g, (3,3),0)\n",
    "\n",
    "thresh = cv2.adaptiveThreshold(blur, 255, cv2.ADAPTIVE_THRESH_GAUSSIAN_C, cv2.THRESH_BINARY_INV, 205, 1)\n",
    "\n",
    "_, contours ,_ = cv2.findContours(thresh, cv2.RETR_TREE, cv2.CHAIN_APPROX_SIMPLE)\n",
    "print(len(contours))\n",
    "\n",
    "filtered = []\n",
    "for c in contours:\n",
    "\tapprox = cv2.approxPolyDP(c,0.01*cv2.arcLength(c,True),True)\n",
    "\tarea = cv2.contourArea(c)\n",
    "\tif ((len(approx) > 10) & (area > 400) & (area < 900 )):\n",
    "\t\tfiltered.append(c)\n",
    "\n",
    "\n",
    "print(len(filtered))\n",
    "\n",
    "objects2 = np.zeros([img.shape[0],img.shape[1],3], 'uint8')\n",
    "for c in filtered:\n",
    "\tcol = (randint(0,255), randint(0,255), randint(0,255))\n",
    "\tcv2.drawContours(objects,[c], -1, col, -1)\n",
    "\tarea = cv2.contourArea(c)\n",
    "\tp = cv2.arcLength(c,True)\n",
    "    \n",
    "cv2.imwrite(\"output2.jpg\",objects)\n"
   ]
  },
  {
   "cell_type": "code",
   "execution_count": 5,
   "metadata": {},
   "outputs": [
    {
     "name": "stdout",
     "output_type": "stream",
     "text": [
      "1860\n",
      "20\n"
     ]
    },
    {
     "data": {
      "text/plain": [
       "True"
      ]
     },
     "execution_count": 5,
     "metadata": {},
     "output_type": "execute_result"
    }
   ],
   "source": [
    "b,g,r = cv2.split(img)\n",
    "blur = cv2.GaussianBlur(b, (3,3),0)\n",
    "\n",
    "thresh = cv2.adaptiveThreshold(blur, 255, cv2.ADAPTIVE_THRESH_GAUSSIAN_C, cv2.THRESH_BINARY_INV, 205, 1)\n",
    "\n",
    "_, contours ,_ = cv2.findContours(thresh, cv2.RETR_TREE, cv2.CHAIN_APPROX_SIMPLE)\n",
    "print(len(contours))\n",
    "\n",
    "filtered = []\n",
    "for c in contours:\n",
    "\tapprox = cv2.approxPolyDP(c,0.01*cv2.arcLength(c,True),True)\n",
    "\tarea = cv2.contourArea(c)\n",
    "\tif ((len(approx) > 10) & (area > 400) & (area < 900 )):\n",
    "\t\tfiltered.append(c)\n",
    "\n",
    "\n",
    "print(len(filtered))\n",
    "\n",
    "objects3 = np.zeros([img.shape[0],img.shape[1],3], 'uint8')\n",
    "for c in filtered:\n",
    "\tcol = (randint(0,255), randint(0,255), randint(0,255))\n",
    "\tcv2.drawContours(objects,[c], -1, col, -1)\n",
    "\tarea = cv2.contourArea(c)\n",
    "\tp = cv2.arcLength(c,True)\n",
    "    \n",
    "cv2.imwrite(\"output3.jpg\",objects)\n"
   ]
  },
  {
   "cell_type": "code",
   "execution_count": 6,
   "metadata": {},
   "outputs": [
    {
     "data": {
      "text/plain": [
       "True"
      ]
     },
     "execution_count": 6,
     "metadata": {},
     "output_type": "execute_result"
    }
   ],
   "source": [
    "objects = objects1+objects2+objects3\n",
    "cv2.imwrite(\"output.jpg\",objects)"
   ]
  }
 ],
 "metadata": {
  "kernelspec": {
   "display_name": "Python 3",
   "language": "python",
   "name": "python3"
  },
  "language_info": {
   "codemirror_mode": {
    "name": "ipython",
    "version": 3
   },
   "file_extension": ".py",
   "mimetype": "text/x-python",
   "name": "python",
   "nbconvert_exporter": "python",
   "pygments_lexer": "ipython3",
   "version": "3.7.5"
  }
 },
 "nbformat": 4,
 "nbformat_minor": 2
}
