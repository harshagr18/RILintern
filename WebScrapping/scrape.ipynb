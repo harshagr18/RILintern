{
 "cells": [
  {
   "cell_type": "code",
   "execution_count": 1,
   "metadata": {},
   "outputs": [],
   "source": [
    "import requests\n",
    "import re\n",
    "from bs4 import BeautifulSoup"
   ]
  },
  {
   "cell_type": "code",
   "execution_count": 7,
   "metadata": {},
   "outputs": [
    {
     "name": "stdout",
     "output_type": "stream",
     "text": [
      "ENTER AN ITEM :samsung-galaxy-a50\n",
      "GOOGLING....\n",
      "https://www.91mobiles.com/samsung-galaxy-a50-price-in-india\n",
      " 14999\n",
      " 18136\n"
     ]
    }
   ],
   "source": [
    "user_input = input('ENTER AN ITEM :')\n",
    "print(\"GOOGLING....\")\n",
    "\n",
    "website = \"https://www.91mobiles.com/\"+user_input+\"-price-in-india\"\n",
    "\n",
    "print(website)\n",
    "page = requests.get(website)\n",
    "\n",
    "soup = BeautifulSoup(page.text, 'html.parser')\n",
    "\n",
    "itemnames = []\n",
    "itemprices = []\n",
    "\n",
    "for itemname in soup.find_all(\"img\", attrs = {'class':'store_logo impressions_gts lazy img_alt'}):\n",
    "\t\titemnames.append(itemname['alt'])\n",
    "for itemprice in soup.find_all(\"span\", attrs = {'class':'store_prc'}):\n",
    "\t\titemprices.append(itemprice['data-price'])\n",
    "\n",
    "for i,j in zip(itemnames,itemprices):\n",
    "\tprint(i, j)"
   ]
  },
  {
   "cell_type": "code",
   "execution_count": null,
   "metadata": {},
   "outputs": [],
   "source": []
  }
 ],
 "metadata": {
  "kernelspec": {
   "display_name": "Python 3",
   "language": "python",
   "name": "python3"
  },
  "language_info": {
   "codemirror_mode": {
    "name": "ipython",
    "version": 3
   },
   "file_extension": ".py",
   "mimetype": "text/x-python",
   "name": "python",
   "nbconvert_exporter": "python",
   "pygments_lexer": "ipython3",
   "version": "3.7.5"
  }
 },
 "nbformat": 4,
 "nbformat_minor": 2
}
