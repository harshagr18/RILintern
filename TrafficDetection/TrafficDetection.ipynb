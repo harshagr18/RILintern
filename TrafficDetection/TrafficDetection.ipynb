{
 "cells": [
  {
   "cell_type": "code",
   "execution_count": 3,
   "metadata": {},
   "outputs": [
    {
     "name": "stderr",
     "output_type": "stream",
     "text": [
      "Using TensorFlow backend.\n"
     ]
    },
    {
     "name": "stdout",
     "output_type": "stream",
     "text": [
      "WARNING:tensorflow:From /home/harsh/anaconda3/envs/RILintern/lib/python3.7/site-packages/keras/backend/tensorflow_backend.py:174: The name tf.get_default_session is deprecated. Please use tf.compat.v1.get_default_session instead.\n",
      "\n",
      "WARNING:tensorflow:From /home/harsh/anaconda3/envs/RILintern/lib/python3.7/site-packages/keras/backend/tensorflow_backend.py:181: The name tf.ConfigProto is deprecated. Please use tf.compat.v1.ConfigProto instead.\n",
      "\n",
      "WARNING:tensorflow:From /home/harsh/anaconda3/envs/RILintern/lib/python3.7/site-packages/keras/backend/tensorflow_backend.py:186: The name tf.Session is deprecated. Please use tf.compat.v1.Session instead.\n",
      "\n",
      "WARNING:tensorflow:From /home/harsh/anaconda3/envs/RILintern/lib/python3.7/site-packages/keras/backend/tensorflow_backend.py:190: The name tf.global_variables is deprecated. Please use tf.compat.v1.global_variables instead.\n",
      "\n",
      "WARNING:tensorflow:From /home/harsh/anaconda3/envs/RILintern/lib/python3.7/site-packages/keras/backend/tensorflow_backend.py:74: The name tf.get_default_graph is deprecated. Please use tf.compat.v1.get_default_graph instead.\n",
      "\n",
      "WARNING:tensorflow:From /home/harsh/anaconda3/envs/RILintern/lib/python3.7/site-packages/keras/backend/tensorflow_backend.py:517: The name tf.placeholder is deprecated. Please use tf.compat.v1.placeholder instead.\n",
      "\n",
      "WARNING:tensorflow:From /home/harsh/anaconda3/envs/RILintern/lib/python3.7/site-packages/keras/backend/tensorflow_backend.py:4138: The name tf.random_uniform is deprecated. Please use tf.random.uniform instead.\n",
      "\n",
      "WARNING:tensorflow:From /home/harsh/anaconda3/envs/RILintern/lib/python3.7/site-packages/keras/backend/tensorflow_backend.py:1919: The name tf.nn.fused_batch_norm is deprecated. Please use tf.compat.v1.nn.fused_batch_norm instead.\n",
      "\n",
      "WARNING:tensorflow:From /home/harsh/anaconda3/envs/RILintern/lib/python3.7/site-packages/keras/backend/tensorflow_backend.py:3976: The name tf.nn.max_pool is deprecated. Please use tf.nn.max_pool2d instead.\n",
      "\n",
      "WARNING:tensorflow:From /home/harsh/anaconda3/envs/RILintern/lib/python3.7/site-packages/keras/backend/tensorflow_backend.py:4185: The name tf.truncated_normal is deprecated. Please use tf.random.truncated_normal instead.\n",
      "\n",
      "WARNING:tensorflow:From /home/harsh/anaconda3/envs/RILintern/lib/python3.7/site-packages/keras/backend/tensorflow_backend.py:4115: The name tf.random_normal is deprecated. Please use tf.random.normal instead.\n",
      "\n",
      "WARNING:tensorflow:From /home/harsh/anaconda3/envs/RILintern/lib/python3.7/site-packages/imageai/Detection/keras_retinanet/backend/tensorflow_backend.py:22: The name tf.image.resize_images is deprecated. Please use tf.image.resize instead.\n",
      "\n",
      "WARNING:tensorflow:From /home/harsh/anaconda3/envs/RILintern/lib/python3.7/site-packages/imageai/Detection/keras_retinanet/backend/tensorflow_backend.py:46: where (from tensorflow.python.ops.array_ops) is deprecated and will be removed in a future version.\n",
      "Instructions for updating:\n",
      "Use tf.where in 2.0, which has the same broadcast rule as np.where\n",
      "WARNING:tensorflow:From /home/harsh/anaconda3/envs/RILintern/lib/python3.7/site-packages/keras/backend/tensorflow_backend.py:199: The name tf.is_variable_initialized is deprecated. Please use tf.compat.v1.is_variable_initialized instead.\n",
      "\n",
      "WARNING:tensorflow:From /home/harsh/anaconda3/envs/RILintern/lib/python3.7/site-packages/keras/backend/tensorflow_backend.py:206: The name tf.variables_initializer is deprecated. Please use tf.compat.v1.variables_initializer instead.\n",
      "\n",
      "car  :  52.25117802619934\n",
      "car  :  58.24289321899414\n",
      "car  :  57.928574085235596\n",
      "person  :  50.271111726760864\n",
      "person  :  56.693851947784424\n",
      "person  :  50.30192732810974\n",
      "person  :  52.21896171569824\n",
      "car  :  58.71932506561279\n",
      "truck  :  51.520681381225586\n",
      "car  :  62.9848837852478\n",
      "car  :  76.25598311424255\n",
      "car  :  60.981082916259766\n",
      "car  :  79.8943042755127\n",
      "car  :  71.59103751182556\n",
      "car  :  71.27530574798584\n",
      "car  :  56.02037310600281\n",
      "person  :  59.4621479511261\n",
      "person  :  52.350085973739624\n",
      "person  :  55.576151609420776\n",
      "person  :  63.590335845947266\n",
      "motorcycle  :  50.70919394493103\n",
      "person  :  70.14398574829102\n",
      "person  :  67.33459830284119\n",
      "motorcycle  :  51.57560706138611\n",
      "motorcycle  :  61.468249559402466\n",
      "motorcycle  :  54.16458249092102\n",
      "motorcycle  :  63.615965843200684\n",
      "person  :  66.24383330345154\n",
      "motorcycle  :  50.69260001182556\n",
      "motorcycle  :  71.43365144729614\n",
      "motorcycle  :  53.735703229904175\n",
      "person  :  51.83899998664856\n",
      "bus  :  70.87085247039795\n",
      "truck  :  61.614084243774414\n",
      "truck  :  63.711780309677124\n",
      "car  :  57.282644510269165\n",
      "truck  :  66.26548171043396\n",
      "truck  :  51.64480209350586\n"
     ]
    }
   ],
   "source": [
    "from imageai.Detection import ObjectDetection\n",
    "import os\n",
    "\n",
    "execution_path = os.getcwd()\n",
    "1\n",
    "detector = ObjectDetection()\n",
    "detector.setModelTypeAsRetinaNet()\n",
    "detector.setModelPath( os.path.join(execution_path , \"resnet50_coco_best_v2.0.1.h5\"))\n",
    "detector.loadModel()\n",
    "detections = detector.detectObjectsFromImage(input_image=os.path.join(execution_path , \"image.jpg\"), output_image_path=os.path.join(execution_path , \"imagenew.jpg\"))\n",
    "\n",
    "for eachObject in detections:\n",
    "    print(eachObject[\"name\"] , \" : \" , eachObject[\"percentage_probability\"] )"
   ]
  }
 ],
 "metadata": {
  "kernelspec": {
   "display_name": "Python 3",
   "language": "python",
   "name": "python3"
  },
  "language_info": {
   "codemirror_mode": {
    "name": "ipython",
    "version": 3
   },
   "file_extension": ".py",
   "mimetype": "text/x-python",
   "name": "python",
   "nbconvert_exporter": "python",
   "pygments_lexer": "ipython3",
   "version": "3.7.5"
  }
 },
 "nbformat": 4,
 "nbformat_minor": 2
}
